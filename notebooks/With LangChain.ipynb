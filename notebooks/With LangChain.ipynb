{
 "cells": [
  {
   "cell_type": "markdown",
   "id": "5fe192bb-0752-4aea-befb-74f8c9ef7c0c",
   "metadata": {},
   "source": [
    "# Environment"
   ]
  },
  {
   "cell_type": "code",
   "execution_count": 1,
   "id": "5baebcc2-2e0f-48c7-bb27-8919de795389",
   "metadata": {},
   "outputs": [],
   "source": [
    "import os\n",
    "import pandas as pd\n",
    "from dotenv import load_dotenv\n",
    "\n",
    "load_dotenv()  # take environment variables from .env.\n",
    "\n",
    "from langchain_openai import ChatOpenAI\n",
    "from langchain.chains import create_extraction_chain"
   ]
  },
  {
   "cell_type": "markdown",
   "id": "fee2676c-6d6c-4e6e-a127-cebf9ca6f2dc",
   "metadata": {},
   "source": [
    "# Get the data"
   ]
  },
  {
   "cell_type": "code",
   "execution_count": 2,
   "id": "a07b9043-9bee-4d13-a14a-9c2a180709ea",
   "metadata": {},
   "outputs": [
    {
     "data": {
      "text/html": [
       "<div>\n",
       "<style scoped>\n",
       "    .dataframe tbody tr th:only-of-type {\n",
       "        vertical-align: middle;\n",
       "    }\n",
       "\n",
       "    .dataframe tbody tr th {\n",
       "        vertical-align: top;\n",
       "    }\n",
       "\n",
       "    .dataframe thead th {\n",
       "        text-align: right;\n",
       "    }\n",
       "</style>\n",
       "<table border=\"1\" class=\"dataframe\">\n",
       "  <thead>\n",
       "    <tr style=\"text-align: right;\">\n",
       "      <th></th>\n",
       "      <th>text</th>\n",
       "      <th>created_at</th>\n",
       "      <th>id_str</th>\n",
       "    </tr>\n",
       "  </thead>\n",
       "  <tbody>\n",
       "    <tr>\n",
       "      <th>0</th>\n",
       "      <td>.@FoxNews is no longer the same. We miss the g...</td>\n",
       "      <td>05-19-2020 01:59:49</td>\n",
       "      <td>1262563582086184970</td>\n",
       "    </tr>\n",
       "    <tr>\n",
       "      <th>1</th>\n",
       "      <td>So the so-called HHS Whistleblower was against...</td>\n",
       "      <td>05-18-2020 14:44:21</td>\n",
       "      <td>1262393595560067073</td>\n",
       "    </tr>\n",
       "    <tr>\n",
       "      <th>2</th>\n",
       "      <td>.....mixed about even wanting us to get out. T...</td>\n",
       "      <td>05-18-2020 14:39:40</td>\n",
       "      <td>1262392415513690112</td>\n",
       "    </tr>\n",
       "    <tr>\n",
       "      <th>3</th>\n",
       "      <td>Wow! The Front Page @washingtonpost Headline r...</td>\n",
       "      <td>05-18-2020 12:47:40</td>\n",
       "      <td>1262364231288197123</td>\n",
       "    </tr>\n",
       "    <tr>\n",
       "      <th>4</th>\n",
       "      <td>MAGA crowds are bigger than ever! https://t.co...</td>\n",
       "      <td>05-18-2020 12:26:37</td>\n",
       "      <td>1262358931982123008</td>\n",
       "    </tr>\n",
       "  </tbody>\n",
       "</table>\n",
       "</div>"
      ],
      "text/plain": [
       "                                                text           created_at  \\\n",
       "0  .@FoxNews is no longer the same. We miss the g...  05-19-2020 01:59:49   \n",
       "1  So the so-called HHS Whistleblower was against...  05-18-2020 14:44:21   \n",
       "2  .....mixed about even wanting us to get out. T...  05-18-2020 14:39:40   \n",
       "3  Wow! The Front Page @washingtonpost Headline r...  05-18-2020 12:47:40   \n",
       "4  MAGA crowds are bigger than ever! https://t.co...  05-18-2020 12:26:37   \n",
       "\n",
       "                id_str  \n",
       "0  1262563582086184970  \n",
       "1  1262393595560067073  \n",
       "2  1262392415513690112  \n",
       "3  1262364231288197123  \n",
       "4  1262358931982123008  "
      ]
     },
     "execution_count": 2,
     "metadata": {},
     "output_type": "execute_result"
    }
   ],
   "source": [
    "df = pd.read_csv('../data/trump.csv')\n",
    "df.head()"
   ]
  },
  {
   "cell_type": "markdown",
   "id": "6757c339-1753-46ab-a9f8-4868b7e3d9b5",
   "metadata": {},
   "source": [
    "# OpenAI"
   ]
  },
  {
   "cell_type": "code",
   "execution_count": 3,
   "id": "2bbaba71-dbf5-44ef-9419-eb0389653c19",
   "metadata": {},
   "outputs": [],
   "source": [
    "schema = {\n",
    "    \"properties\": {\n",
    "        \"person\": {\"type\": \"string\"},\n",
    "        \"twitter_handle\": {\"type\": \"string\"},\n",
    "    }\n",
    "}\n",
    "\n",
    "# Run Chain\n",
    "llm = ChatOpenAI()\n",
    "chain = create_extraction_chain(schema, llm)"
   ]
  },
  {
   "cell_type": "markdown",
   "id": "9f06b82c-08b3-4c01-938e-3883b0057dd4",
   "metadata": {},
   "source": [
    "# Single"
   ]
  },
  {
   "cell_type": "code",
   "execution_count": 4,
   "id": "eed7c450-5b9f-453c-ba1c-3021e6c0f574",
   "metadata": {},
   "outputs": [],
   "source": [
    "dfx = df.head()"
   ]
  },
  {
   "cell_type": "code",
   "execution_count": 5,
   "id": "2cb57da9-587a-48af-8189-d594e6a8d0b8",
   "metadata": {},
   "outputs": [
    {
     "name": "stdout",
     "output_type": "stream",
     "text": [
      "[{'person': 'Roger Ailes', 'twitter_handle': ''}]\n",
      "[{'person': 'HHS Whistleblower', 'twitter_handle': '@NorahODonnell'}]\n",
      "[{'person': 'us', 'twitter_handle': 'N/A'}, {'person': 'we', 'twitter_handle': 'N/A'}]\n",
      "[{'person': 'Obama', 'twitter_handle': ''}, {'person': 'Front Page', 'twitter_handle': '@washingtonpost'}]\n",
      "[{'person': 'MAGA', 'twitter_handle': 'zKxoTBw02v'}]\n"
     ]
    }
   ],
   "source": [
    "for tweet in dfx['text']:\n",
    "    response = chain.invoke(tweet)['text']\n",
    "    print(response)"
   ]
  },
  {
   "cell_type": "markdown",
   "id": "e2ef16d6-e7dc-4439-8464-8cdfbacae958",
   "metadata": {},
   "source": [
    "# Batch"
   ]
  },
  {
   "cell_type": "code",
   "execution_count": 6,
   "id": "5ba7fc5d-b014-4ca2-a3b8-0be39b4e2bff",
   "metadata": {},
   "outputs": [],
   "source": [
    "dfx = df.head(4)"
   ]
  },
  {
   "cell_type": "code",
   "execution_count": 7,
   "id": "c55553ff-76b3-4210-8787-2c0ee1d3b8f3",
   "metadata": {},
   "outputs": [],
   "source": [
    "list_of_names = []\n",
    "list_of_twitter_handles = []"
   ]
  },
  {
   "cell_type": "code",
   "execution_count": 8,
   "id": "25020d3c-7a33-4e9a-8695-82d77f8a1ba2",
   "metadata": {},
   "outputs": [],
   "source": [
    "# Iterate over batches of 2 tweets\n",
    "batch_size = 2\n",
    "for batch_start in range(0, len(dfx['text']), batch_size):\n",
    "    batch_tweets = dfx['text'].iloc[batch_start:batch_start + batch_size]\n",
    "    \n",
    "    # Print each tweets in the batch\n",
    "    for tweets in batch_tweets:\n",
    "        response = chain.invoke(tweets)['text']\n",
    "\n",
    "        if isinstance(response, list) and len(response) > 0:\n",
    "            response_dict = response[0]\n",
    "            \n",
    "            # Check if 'person' and 'twitter_handle' keys exist in the dictionary\n",
    "            person_name = response_dict.get('person')\n",
    "            twitter_handle = response_dict.get('twitter_handle')\n",
    "            \n",
    "            if person_name != None and person_name != \"\" and person_name != \"None\":\n",
    "                list_of_names.append(person_name)\n",
    "            if twitter_handle != None and twitter_handle != \"\" and twitter_handle != \"None\":\n",
    "                list_of_twitter_handles.append(twitter_handle)"
   ]
  },
  {
   "cell_type": "code",
   "execution_count": 9,
   "id": "bf9b40da-85d3-44b6-9b31-b55144164a7c",
   "metadata": {},
   "outputs": [
    {
     "name": "stdout",
     "output_type": "stream",
     "text": [
      "['Roger Ailes', 'HHS Whistleblower', 'us', 'Front Page']\n",
      "['@NorahODonnell', '@washingtonpost']\n"
     ]
    }
   ],
   "source": [
    "print(list_of_names)\n",
    "print(list_of_twitter_handles)"
   ]
  }
 ],
 "metadata": {
  "kernelspec": {
   "display_name": "Python 3 (ipykernel)",
   "language": "python",
   "name": "python3"
  },
  "language_info": {
   "codemirror_mode": {
    "name": "ipython",
    "version": 3
   },
   "file_extension": ".py",
   "mimetype": "text/x-python",
   "name": "python",
   "nbconvert_exporter": "python",
   "pygments_lexer": "ipython3",
   "version": "3.9.9"
  }
 },
 "nbformat": 4,
 "nbformat_minor": 5
}

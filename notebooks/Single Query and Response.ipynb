{
 "cells": [
  {
   "cell_type": "markdown",
   "id": "5fe192bb-0752-4aea-befb-74f8c9ef7c0c",
   "metadata": {},
   "source": [
    "# Environment"
   ]
  },
  {
   "cell_type": "code",
   "execution_count": 1,
   "id": "5baebcc2-2e0f-48c7-bb27-8919de795389",
   "metadata": {},
   "outputs": [],
   "source": [
    "import os\n",
    "import pandas as pd\n",
    "import json\n",
    "from dotenv import load_dotenv\n",
    "\n",
    "load_dotenv()  # take environment variables from .env.\n",
    "\n",
    "from openai import OpenAI\n"
   ]
  },
  {
   "cell_type": "markdown",
   "id": "4c4f3512-ebfe-45b5-8bcc-093f10feb8e3",
   "metadata": {},
   "source": [
    "# OpenAI / Prompt Engineering"
   ]
  },
  {
   "cell_type": "code",
   "execution_count": 2,
   "id": "57e6a9ed-45a5-4c64-b5b9-958da0fa963e",
   "metadata": {},
   "outputs": [],
   "source": [
    "text = \"President Biden is keeping his promise and helping the hard-working people of Allentown, Pennsylvania, and communities across the country mount the economic comeback they deserve.\""
   ]
  },
  {
   "cell_type": "code",
   "execution_count": 3,
   "id": "df9e2b9d-aa47-41b2-9319-f06d2e44c131",
   "metadata": {},
   "outputs": [],
   "source": [
    "client = OpenAI()"
   ]
  },
  {
   "cell_type": "code",
   "execution_count": 4,
   "id": "43474017-0e98-4432-9b3d-23d569e62f9c",
   "metadata": {},
   "outputs": [
    {
     "name": "stdout",
     "output_type": "stream",
     "text": [
      "{\n",
      "  \"names\": [\"President Biden\"],\n",
      "  \"locations\": [\"Allentown, Pennsylvania\"]\n",
      "}\n"
     ]
    }
   ],
   "source": [
    "response = client.chat.completions.create(\n",
    "      model=\"gpt-3.5-turbo-1106\",\n",
    "      response_format={ \"type\": \"json_object\" },\n",
    "      messages=[\n",
    "        {\"role\": \"system\", \"content\": 'You are a helpful assistant that extracts names and locations from the text. Use the json format in the output.'},\n",
    "        {\"role\": \"user\", \"content\": text}\n",
    "      ]\n",
    "    )\n",
    "generated_content = response.choices[0].message.content\n",
    "print(generated_content) "
   ]
  }
 ],
 "metadata": {
  "kernelspec": {
   "display_name": "Python 3 (ipykernel)",
   "language": "python",
   "name": "python3"
  },
  "language_info": {
   "codemirror_mode": {
    "name": "ipython",
    "version": 3
   },
   "file_extension": ".py",
   "mimetype": "text/x-python",
   "name": "python",
   "nbconvert_exporter": "python",
   "pygments_lexer": "ipython3",
   "version": "3.9.9"
  }
 },
 "nbformat": 4,
 "nbformat_minor": 5
}

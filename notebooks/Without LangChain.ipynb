{
 "cells": [
  {
   "cell_type": "markdown",
   "id": "5fe192bb-0752-4aea-befb-74f8c9ef7c0c",
   "metadata": {},
   "source": [
    "# Environment"
   ]
  },
  {
   "cell_type": "code",
   "execution_count": 1,
   "id": "5baebcc2-2e0f-48c7-bb27-8919de795389",
   "metadata": {},
   "outputs": [],
   "source": [
    "import os\n",
    "import pandas as pd\n",
    "import json\n",
    "from dotenv import load_dotenv\n",
    "\n",
    "load_dotenv()  # take environment variables from .env.\n",
    "\n",
    "from openai import OpenAI\n"
   ]
  },
  {
   "cell_type": "markdown",
   "id": "fee2676c-6d6c-4e6e-a127-cebf9ca6f2dc",
   "metadata": {},
   "source": [
    "# Get the data"
   ]
  },
  {
   "cell_type": "code",
   "execution_count": 2,
   "id": "a07b9043-9bee-4d13-a14a-9c2a180709ea",
   "metadata": {},
   "outputs": [
    {
     "data": {
      "text/html": [
       "<div>\n",
       "<style scoped>\n",
       "    .dataframe tbody tr th:only-of-type {\n",
       "        vertical-align: middle;\n",
       "    }\n",
       "\n",
       "    .dataframe tbody tr th {\n",
       "        vertical-align: top;\n",
       "    }\n",
       "\n",
       "    .dataframe thead th {\n",
       "        text-align: right;\n",
       "    }\n",
       "</style>\n",
       "<table border=\"1\" class=\"dataframe\">\n",
       "  <thead>\n",
       "    <tr style=\"text-align: right;\">\n",
       "      <th></th>\n",
       "      <th>text</th>\n",
       "      <th>created_at</th>\n",
       "      <th>id_str</th>\n",
       "    </tr>\n",
       "  </thead>\n",
       "  <tbody>\n",
       "    <tr>\n",
       "      <th>0</th>\n",
       "      <td>.@FoxNews is no longer the same. We miss the g...</td>\n",
       "      <td>05-19-2020 01:59:49</td>\n",
       "      <td>1262563582086184970</td>\n",
       "    </tr>\n",
       "    <tr>\n",
       "      <th>1</th>\n",
       "      <td>So the so-called HHS Whistleblower was against...</td>\n",
       "      <td>05-18-2020 14:44:21</td>\n",
       "      <td>1262393595560067073</td>\n",
       "    </tr>\n",
       "    <tr>\n",
       "      <th>2</th>\n",
       "      <td>.....mixed about even wanting us to get out. T...</td>\n",
       "      <td>05-18-2020 14:39:40</td>\n",
       "      <td>1262392415513690112</td>\n",
       "    </tr>\n",
       "    <tr>\n",
       "      <th>3</th>\n",
       "      <td>Wow! The Front Page @washingtonpost Headline r...</td>\n",
       "      <td>05-18-2020 12:47:40</td>\n",
       "      <td>1262364231288197123</td>\n",
       "    </tr>\n",
       "    <tr>\n",
       "      <th>4</th>\n",
       "      <td>MAGA crowds are bigger than ever! https://t.co...</td>\n",
       "      <td>05-18-2020 12:26:37</td>\n",
       "      <td>1262358931982123008</td>\n",
       "    </tr>\n",
       "  </tbody>\n",
       "</table>\n",
       "</div>"
      ],
      "text/plain": [
       "                                                text           created_at  \\\n",
       "0  .@FoxNews is no longer the same. We miss the g...  05-19-2020 01:59:49   \n",
       "1  So the so-called HHS Whistleblower was against...  05-18-2020 14:44:21   \n",
       "2  .....mixed about even wanting us to get out. T...  05-18-2020 14:39:40   \n",
       "3  Wow! The Front Page @washingtonpost Headline r...  05-18-2020 12:47:40   \n",
       "4  MAGA crowds are bigger than ever! https://t.co...  05-18-2020 12:26:37   \n",
       "\n",
       "                id_str  \n",
       "0  1262563582086184970  \n",
       "1  1262393595560067073  \n",
       "2  1262392415513690112  \n",
       "3  1262364231288197123  \n",
       "4  1262358931982123008  "
      ]
     },
     "execution_count": 2,
     "metadata": {},
     "output_type": "execute_result"
    }
   ],
   "source": [
    "df = pd.read_csv('../data/trump.csv')\n",
    "df.head()"
   ]
  },
  {
   "cell_type": "code",
   "execution_count": 3,
   "id": "f45d9e21-ba96-4dce-ae78-22246e4da438",
   "metadata": {},
   "outputs": [],
   "source": [
    "sample_df = df.head(10)"
   ]
  },
  {
   "cell_type": "markdown",
   "id": "4c4f3512-ebfe-45b5-8bcc-093f10feb8e3",
   "metadata": {},
   "source": [
    "# OpenAI / Prompt Engineering"
   ]
  },
  {
   "cell_type": "code",
   "execution_count": 4,
   "id": "df9e2b9d-aa47-41b2-9319-f06d2e44c131",
   "metadata": {},
   "outputs": [],
   "source": [
    "client = OpenAI()"
   ]
  },
  {
   "cell_type": "code",
   "execution_count": 5,
   "id": "51c4a06f-0892-484b-960a-10d44e8f6586",
   "metadata": {},
   "outputs": [
    {
     "name": "stdout",
     "output_type": "stream",
     "text": [
      "['.@FoxNews is no longer the same. We miss the great Roger Ailes. You have more anti-Trump people by far than ever before. Looking for a new outlet! https://t.co/jXxsF0flUM', 'So the so-called HHS Whistleblower was against HYDROXYCHLOROQUINE. Then why did he make and sign an emergency use authorization? @NorahODonnell said “He shared his concerns with a reporter.” In other words he LEAKED. A dumb @60Minutes hit job on a grandstanding Never Trumper!', '.....mixed about even wanting us to get out. They make a fortune $$$ by having us stay and except at the beginning we never really fought to win. We are more of a police force than the mighty military that we are especially now as rebuilt. No I am not acting impulsively!', 'Wow! The Front Page @washingtonpost Headline reads “A BOOST IN TESTS BUT LACK OF TAKERS.” We have done a great job on Ventilators Testing and everything else. Were left little by Obama. Over 11 million tests and going up fast. More than all countries in the world combined.', 'MAGA crowds are bigger than ever! https://t.co/zKxoTBw02v', '....spews lies. @60Minutes report was incorrect which they couldn’t care less about. Fake News! I don’t know this guy never met him but don’t like what I see. How can a creep like this show up to work tomorrow &amp; report to @SecAzar his boss after trashing him on T.V.?....', '.@60Minutes &amp; third place anchor @NorahODonnell are doing everything in their power to demean our Country much to the benefit of the Radical Left Democrats. Tonight they put on yet another Fake “Whistleblower” a disgruntled employee who supports Dems fabricates stories &amp;...', 'Thank you very much to our beautiful “boaters.” I will never let you down! #MAGA https://t.co/BiqIqzgOcL', '.....are therefore given massive advantages over The United States and everyone else? Prior to the Plague floating in from China our Economy was blowing everybody away the best of any country EVER. We will be there again and soon!', 'I’m not running against Sleepy Joe Biden. He is not even a factor. Never was remember 1% Joe? I’m running against the Radical Left Do Nothing Democrats &amp; their partner the real opposition party the Lamestream Fake News Media! They are vicious &amp; crazy but we will WIN! https://t.co/ltdHSmaMYT']\n",
      "<class 'list'>\n"
     ]
    }
   ],
   "source": [
    "# List values of the 'text' column\n",
    "tweets = sample_df['text'].tolist()\n",
    "\n",
    "print(tweets)\n",
    "print(type(tweets))"
   ]
  },
  {
   "cell_type": "code",
   "execution_count": 6,
   "id": "8e835dae-a67f-4eb1-b0de-170b38862c36",
   "metadata": {},
   "outputs": [],
   "source": [
    "list_responses = []\n",
    "for tweet in tweets:\n",
    "    response = client.chat.completions.create(\n",
    "      model=\"gpt-3.5-turbo-1106\",\n",
    "      response_format={ \"type\": \"json_object\" },\n",
    "      messages=[\n",
    "        {\"role\": \"system\", \"content\": 'You are a helpful assistant that extracts names, twitter handles, locations from tweets. For every tweet, list the names, twitter handles, locations, and the tweet. Use the json format in the output.'},\n",
    "        {\"role\": \"user\", \"content\": tweet}\n",
    "      ]\n",
    "    )\n",
    "    generated_content = response.choices[0].message.content\n",
    "    list_responses.append(generated_content) "
   ]
  },
  {
   "cell_type": "code",
   "execution_count": 7,
   "id": "231b27ee-b8f6-4da2-bc2a-1272b88c2a54",
   "metadata": {},
   "outputs": [
    {
     "data": {
      "text/plain": [
       "['{\\n  \"names\": [\"Roger Ailes\"],\\n  \"twitter_handles\": [\"@FoxNews\"],\\n  \"locations\": [],\\n  \"tweet\": \".@FoxNews is no longer the same. We miss the great Roger Ailes. You have more anti-Trump people by far than ever before. Looking for a new outlet! https://t.co/jXxsF0flUM\"\\n}',\n",
       " '{\\n  \"names\": [\"Norah O\\'Donnell\"],\\n  \"twitter_handles\": [\"@NorahODonnell\"],\\n  \"locations\": [],\\n  \"tweet\": \"So the so-called HHS Whistleblower was against HYDROXYCHLOROQUINE. Then why did he make and sign an emergency use authorization? @NorahODonnell said \\\\n“He shared his concerns with a reporter.” In other words he LEAKED. A dumb @60Minutes hit job on a grandstanding Never Trumper!\"\\n}',\n",
       " '{\\n  \"names\": [],\\n  \"twitter_handles\": [],\\n  \"locations\": [],\\n  \"tweet\": \".....mixed about even wanting us to get out. They make a fortune $$$ by having us stay and except at the beginning we never really fought to win. We are more of a police force than the mighty military that we are especially now as rebuilt. No I am not acting impulsively!\"\\n}',\n",
       " '{\\n  \"names\": [],\\n  \"twitter_handles\": [\"@washingtonpost\"],\\n  \"locations\": [],\\n  \"tweet\": \"Wow! The Front Page @washingtonpost Headline reads \\\\n \\\\n“A BOOST IN TESTS BUT LACK OF TAKERS.” We have done a great job on Ventilators Testing and everything else. Were left little by Obama. Over 11 million tests and going up fast. More than all countries in the world combined.\"\\n}',\n",
       " '{\\n  \"names\": [],\\n  \"twitter_handles\": [],\\n  \"locations\": [],\\n  \"tweet\": \"MAGA crowds are bigger than ever! https://t.co/zKxoTBw02v\"\\n}',\n",
       " '{\\n  \"names\": [],\\n  \"twitter_handles\": [\"@60Minutes\", \"@SecAzar\"],\\n  \"locations\": [],\\n  \"tweet\": \"....spews lies. @60Minutes report was incorrect which they couldn’t care less about. Fake News! I don’t know this guy never met him but don’t like what I see. How can a creep like this show up to work tomorrow &amp; report to @SecAzar his boss after trashing him on T.V.?....\"\\n}',\n",
       " '{\\n  \"names\": [\"Norah O\\'Donnell\"],\\n  \"twitter_handles\": [\"@NorahODonnell\"],\\n  \"locations\": [],\\n  \"tweet\": \".@60Minutes &amp; third place anchor @NorahODonnell are doing everything in their power to demean our Country much to the benefit of the Radical Left Democrats. Tonight they put on yet another Fake “Whistleblower” a disgruntled employee who supports Dems fabricates stories &amp;...\"\\n}',\n",
       " '{\\n  \"names\": [],\\n  \"twitter_handles\": [],\\n  \"locations\": [],\\n  \"tweet\": \"Thank you very much to our beautiful \\\\\"boaters.\\\\\" I will never let you down! #MAGA https://t.co/BiqIqzgOcL\"\\n}',\n",
       " '{\\n  \"names\": [],\\n  \"twitter_handles\": [],\\n  \"locations\": [],\\n  \"tweet\": \".....are therefore given massive advantages over The United States and everyone else? Prior to the Plague floating in from China our Economy was blowing everybody away the best of any country EVER. We will be there again and soon!\"\\n}',\n",
       " '{\\n  \"names\": [\"Joe Biden\"],\\n  \"twitter_handles\": [],\\n  \"locations\": [],\\n  \"tweet\": \"I’m not running against Sleepy Joe Biden. He is not even a factor. Never was remember 1% Joe? I’m running against the Radical Left Do Nothing Democrats &amp; their partner the real opposition party the Lamestream Fake News Media! They are vicious &amp; crazy but we will WIN! https://t.co/ltdHSmaMYT\"\\n}']"
      ]
     },
     "execution_count": 7,
     "metadata": {},
     "output_type": "execute_result"
    }
   ],
   "source": [
    "list_responses"
   ]
  },
  {
   "cell_type": "markdown",
   "id": "eef0faaa-848f-4534-9141-ac9ddb79e834",
   "metadata": {},
   "source": [
    "# Extracting the values"
   ]
  },
  {
   "cell_type": "code",
   "execution_count": 8,
   "id": "4956d3e2-7540-496e-8074-1efc2826c622",
   "metadata": {},
   "outputs": [],
   "source": [
    "list_of_names = []\n",
    "list_of_twitter_handles = []\n",
    "list_of_locations = []"
   ]
  },
  {
   "cell_type": "code",
   "execution_count": 9,
   "id": "e406bd20-0d07-43e4-9f22-5c4171b85576",
   "metadata": {},
   "outputs": [],
   "source": [
    "# Extract key values from each JSON string\n",
    "for json_str in list_responses:\n",
    "    # Parse JSON string to a dictionary\n",
    "    json_dict = json.loads(json_str)\n",
    "    \n",
    "    # Access specific keys and print their values\n",
    "    names = json_dict.get('names', [])\n",
    "    twitter_handles = json_dict.get('twitter_handles', [])\n",
    "    locations = json_dict.get('locations', [])\n",
    "    tweet = json_dict.get('tweet', '')\n",
    "    \n",
    "    if len(names) > 0:\n",
    "        list_of_names.extend(names)\n",
    "    if len(twitter_handles) > 0:\n",
    "        list_of_twitter_handles.extend(twitter_handles)\n",
    "    if len(locations) > 0:\n",
    "        list_of_locations.extend(locations)\n"
   ]
  },
  {
   "cell_type": "code",
   "execution_count": 10,
   "id": "53284f2b-93ec-4651-b61e-43b1cd0f6d9e",
   "metadata": {},
   "outputs": [
    {
     "name": "stdout",
     "output_type": "stream",
     "text": [
      "Names: ['Roger Ailes', \"Norah O'Donnell\", \"Norah O'Donnell\", 'Joe Biden']\n",
      "Twitter Handles: ['@FoxNews', '@NorahODonnell', '@washingtonpost', '@60Minutes', '@SecAzar', '@NorahODonnell']\n",
      "Locations: []\n"
     ]
    }
   ],
   "source": [
    "print(\"Names: \" + str(list_of_names))\n",
    "print(\"Twitter Handles: \" + str(list_of_twitter_handles))\n",
    "print(\"Locations: \" + str(list_of_locations))"
   ]
  },
  {
   "cell_type": "code",
   "execution_count": 11,
   "id": "a5c61f30-c4ee-4d3b-9377-1e8f5602297a",
   "metadata": {},
   "outputs": [
    {
     "name": "stdout",
     "output_type": "stream",
     "text": [
      "{'Joe Biden', \"Norah O'Donnell\", 'Roger Ailes'}\n",
      "{'@SecAzar', '@60Minutes', '@FoxNews', '@NorahODonnell', '@washingtonpost'}\n",
      "set()\n"
     ]
    }
   ],
   "source": [
    "# Convert the list to a set to get unique items\n",
    "print(set(list_of_names))\n",
    "print(set(list_of_twitter_handles))\n",
    "print(set(list_of_locations))"
   ]
  }
 ],
 "metadata": {
  "kernelspec": {
   "display_name": "Python 3 (ipykernel)",
   "language": "python",
   "name": "python3"
  },
  "language_info": {
   "codemirror_mode": {
    "name": "ipython",
    "version": 3
   },
   "file_extension": ".py",
   "mimetype": "text/x-python",
   "name": "python",
   "nbconvert_exporter": "python",
   "pygments_lexer": "ipython3",
   "version": "3.9.9"
  }
 },
 "nbformat": 4,
 "nbformat_minor": 5
}
